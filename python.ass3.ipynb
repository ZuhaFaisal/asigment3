{
 "cells": [
  {
   "cell_type": "code",
   "execution_count": 1,
   "metadata": {},
   "outputs": [
    {
     "name": "stdout",
     "output_type": "stream",
     "text": [
      "Twinkle,twinkle,little star,\n",
      "\n",
      "\t  How I wonder what you are!\n",
      "\n",
      "\t\t Up above the world so high,\n",
      "\n",
      "\t\t Like a diamond in the sky.\n",
      "\n",
      "Twinkle,twinkle,little star,\n",
      "\n",
      "\t How I wonder what you are!\n",
      "\n"
     ]
    }
   ],
   "source": [
    "1#write a python program that prints the following string in specific format.\n",
    "print(\"Twinkle,twinkle,little star,\\n\");\n",
    "print(\"\\t  How I wonder what you are!\\n\");\n",
    "print(\"\\t\\t Up above the world so high,\\n\");\n",
    "print(\"\\t\\t Like a diamond in the sky.\\n\");\n",
    "print(\"Twinkle,twinkle,little star,\\n\");\n",
    "print(\"\\t How I wonder what you are!\\n\");\n"
   ]
  },
  {
   "cell_type": "code",
   "execution_count": 2,
   "metadata": {},
   "outputs": [
    {
     "name": "stdout",
     "output_type": "stream",
     "text": [
      "python version\n",
      "3.7.6 (default, Jan  8 2020, 16:21:45) [MSC v.1916 32 bit (Intel)]\n",
      "version info\n",
      "sys.version_info(major=3, minor=7, micro=6, releaselevel='final', serial=0)\n"
     ]
    }
   ],
   "source": [
    "2#write a python program to get the phython version you are using.\n",
    "import sys\n",
    "print(\"python version\");\n",
    "print(sys.version);\n",
    "print(\"version info\");\n",
    "print(sys.version_info);\n"
   ]
  },
  {
   "cell_type": "code",
   "execution_count": 3,
   "metadata": {},
   "outputs": [
    {
     "name": "stdout",
     "output_type": "stream",
     "text": [
      "2021-10-24 12:49:57.661181\n"
     ]
    }
   ],
   "source": [
    "3#write a python program to display the current date and time.\n",
    "import datetime as dt\n",
    "current_datetime=dt.datetime.now();\n",
    "print(current_datetime);\n"
   ]
  },
  {
   "cell_type": "code",
   "execution_count": 4,
   "metadata": {},
   "outputs": [
    {
     "name": "stdout",
     "output_type": "stream",
     "text": [
      "enter the radius of a circle=4\n",
      "Area of circle= 50.24\n"
     ]
    }
   ],
   "source": [
    "4# write a python program wivh accepts the radius of a circle from the user and compute the area.\n",
    "radius = float(input(\"enter the radius of a circle=\"));\n",
    "PI = 3.14;\n",
    "area =PI*(radius*radius);\n",
    "print(\"Area of circle=\", area);      \n"
   ]
  },
  {
   "cell_type": "code",
   "execution_count": 5,
   "metadata": {},
   "outputs": [
    {
     "name": "stdout",
     "output_type": "stream",
     "text": [
      "Zuha Faisal\n",
      "lasiaF ahuZ\n"
     ]
    }
   ],
   "source": [
    "5# write a python program which accepts the user first and last name and print them in reverse order with a space between them.\n",
    "first_name=\"Zuha \";\n",
    "last_name=\"Faisal\";\n",
    "Full_name=first_name + last_name;\n",
    "print (Full_name);\n",
    "print(Full_name[::-1]);"
   ]
  },
  {
   "cell_type": "code",
   "execution_count": 6,
   "metadata": {},
   "outputs": [
    {
     "name": "stdout",
     "output_type": "stream",
     "text": [
      "enter value1=25\n",
      "enter value2=44.6\n",
      "sum =  69.6\n"
     ]
    }
   ],
   "source": [
    "6#write a python program which takes two inputs from the user and print then addition.\n",
    "value1 =float(input(\"enter value1=\"));\n",
    "value2=float(input(\"enter value2=\"));\n",
    "sum = value1+value2;\n",
    "print(\"sum = \",sum);\n",
    "            "
   ]
  },
  {
   "cell_type": "code",
   "execution_count": 23,
   "metadata": {},
   "outputs": [
    {
     "name": "stdout",
     "output_type": "stream",
     "text": [
      "Enter English Marks67\n",
      "Enter Islamiat Marks56\n",
      "Enter Maths Marks89\n",
      "enter urdu marks76\n",
      "enter science marks67\n",
      "english = 67 /100\n",
      "isl     = 56 /100\n",
      "maths   = 89 /100\n",
      "urdu    = 76 /100\n",
      "science = 67 /100\n",
      "MARKS   = 355 / 500\n",
      "percentage= 71.0 %\n",
      "Grade A\n"
     ]
    }
   ],
   "source": [
    "7#write a python program which takes 5 input from user for different subject marks,total it and generate mark sheet using grades.\n",
    "english = int(input(\"Enter English Marks\"));\n",
    "isl = int(input(\"Enter Islamiat Marks\"));\n",
    "maths = int(input(\"Enter Maths Marks\"));\n",
    "urdu =   int(input(\"enter urdu marks\")) ;\n",
    "science= int(input(\"enter science marks\"));\n",
    "marks = english+isl+maths+urdu+science;\n",
    "print(\"english =\",english, \"/100\") ;\n",
    "print(\"isl     =\",isl, \"/100\") ;\n",
    "print(\"maths   =\",maths, \"/100\") ;\n",
    "print(\"urdu    =\",urdu, \"/100\") ;\n",
    "print(\"science =\",science, \"/100\") ;\n",
    "totalmarks =500;\n",
    "print(\"MARKS   =\",marks,\"/\",totalmarks);\n",
    "percentage =marks/totalmarks*100;\n",
    "print(\"percentage=\",percentage,\"%\");\n",
    "if percentage <= 100 and percentage >= 80:\n",
    "       print(\"Grade A+\");\n",
    "elif percentage < 80 and percentage >= 70:\n",
    "       print(\"Grade A\");\n",
    "elif percentage < 70 and percentage >= 60:\n",
    "       print(\"Grade B\")\n",
    "elif percentage < 60 and percentage >= 50:\n",
    "       print(\"Grade C\");\n",
    "elif percentage < 50 and percentage >= 40:\n",
    "       print(\"Grade D\"); \n",
    "elif percentage < 40 and percentage >= 33:\n",
    "        print(\"Grade E\");\n",
    "elif percentage < 33 and percentage >= 0:\n",
    "        print(\"Grade F\");\n",
    "else:\n",
    "        print(\"invalid percentage\") ;         "
   ]
  },
  {
   "cell_type": "code",
   "execution_count": 24,
   "metadata": {},
   "outputs": [
    {
     "name": "stdout",
     "output_type": "stream",
     "text": [
      "enter a number7\n",
      "7 is odd number\n"
     ]
    }
   ],
   "source": [
    "            \n",
    "8#write a python program which takes input from the user and identify that the given no  is even or odd.\n",
    "number=int(input(\"enter a number\"));\n",
    "if (number %2) == 0:\n",
    "    print(number,\"is an even number\");\n",
    "else:\n",
    "    print(number,\"is odd number\");\n",
    "\n"
   ]
  },
  {
   "cell_type": "code",
   "execution_count": 25,
   "metadata": {},
   "outputs": [
    {
     "name": "stdout",
     "output_type": "stream",
     "text": [
      "[2, 'zuha', 67, True, 67]\n",
      "length of string= 5\n"
     ]
    }
   ],
   "source": [
    "9#write a python program which print the length of list.\n",
    "arry =[2,\"zuha\",67,True,67]\n",
    "print(arry);\n",
    "print(\"length of string=\",len(arry));\n"
   ]
  },
  {
   "cell_type": "code",
   "execution_count": 39,
   "metadata": {},
   "outputs": [
    {
     "name": "stdout",
     "output_type": "stream",
     "text": [
      "sum of list is: 10\n",
      "sum of list is: 30\n",
      "sum of list is: 75\n",
      "sum of list is: 75\n",
      "sum of list is: 153\n"
     ]
    },
    {
     "ename": "ValueError",
     "evalue": "invalid literal for int() with base 10: 'girl'",
     "output_type": "error",
     "traceback": [
      "\u001b[1;31m---------------------------------------------------------------------------\u001b[0m",
      "\u001b[1;31mValueError\u001b[0m                                Traceback (most recent call last)",
      "\u001b[1;32m<ipython-input-39-8e3ba697f862>\u001b[0m in \u001b[0;36m<module>\u001b[1;34m\u001b[0m\n\u001b[0;32m      3\u001b[0m \u001b[0msum_arry\u001b[0m\u001b[1;33m=\u001b[0m\u001b[1;36m0\u001b[0m\u001b[1;33m;\u001b[0m\u001b[1;33m\u001b[0m\u001b[1;33m\u001b[0m\u001b[0m\n\u001b[0;32m      4\u001b[0m \u001b[1;32mfor\u001b[0m \u001b[0mi\u001b[0m \u001b[1;32min\u001b[0m \u001b[0marry\u001b[0m\u001b[1;33m:\u001b[0m\u001b[1;33m\u001b[0m\u001b[1;33m\u001b[0m\u001b[0m\n\u001b[1;32m----> 5\u001b[1;33m     \u001b[0msum_arry\u001b[0m \u001b[1;33m=\u001b[0m\u001b[0msum_arry\u001b[0m\u001b[1;33m+\u001b[0m\u001b[0mint\u001b[0m\u001b[1;33m(\u001b[0m\u001b[0mi\u001b[0m\u001b[1;33m)\u001b[0m\u001b[1;33m;\u001b[0m\u001b[1;33m\u001b[0m\u001b[1;33m\u001b[0m\u001b[0m\n\u001b[0m\u001b[0;32m      6\u001b[0m     \u001b[0mprint\u001b[0m\u001b[1;33m(\u001b[0m\u001b[1;34m\"sum of list is:\"\u001b[0m\u001b[1;33m,\u001b[0m\u001b[0msum_arry\u001b[0m\u001b[1;33m)\u001b[0m\u001b[1;33m;\u001b[0m\u001b[1;33m\u001b[0m\u001b[1;33m\u001b[0m\u001b[0m\n\u001b[0;32m      7\u001b[0m \u001b[1;33m\u001b[0m\u001b[0m\n",
      "\u001b[1;31mValueError\u001b[0m: invalid literal for int() with base 10: 'girl'"
     ]
    }
   ],
   "source": [
    "10#write a python program to sum all the numeric items of list.\n",
    "arry=[10,20,45,0,78,\"girl\"]\n",
    "sum_arry=0;\n",
    "for i in arry:\n",
    "    sum_arry =sum_arry+int(i);\n",
    "    print(\"sum of list is:\",sum_arry);\n",
    "    "
   ]
  },
  {
   "cell_type": "code",
   "execution_count": null,
   "metadata": {},
   "outputs": [],
   "source": [
    "11#write a python program to get thr largest number from a numeric list.\n",
    "list1=[23,34,56,8,1,89,0];\n",
    "print(\"largest number in list is\",max(list1));"
   ]
  },
  {
   "cell_type": "code",
   "execution_count": null,
   "metadata": {},
   "outputs": [],
   "source": []
  },
  {
   "cell_type": "code",
   "execution_count": null,
   "metadata": {},
   "outputs": [],
   "source": []
  },
  {
   "cell_type": "code",
   "execution_count": null,
   "metadata": {},
   "outputs": [],
   "source": []
  }
 ],
 "metadata": {
  "kernelspec": {
   "display_name": "Python 3",
   "language": "python",
   "name": "python3"
  },
  "language_info": {
   "codemirror_mode": {
    "name": "ipython",
    "version": 3
   },
   "file_extension": ".py",
   "mimetype": "text/x-python",
   "name": "python",
   "nbconvert_exporter": "python",
   "pygments_lexer": "ipython3",
   "version": "3.7.6"
  }
 },
 "nbformat": 4,
 "nbformat_minor": 4
}
